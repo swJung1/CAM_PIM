{
 "cells": [
  {
   "cell_type": "code",
   "execution_count": 1,
   "metadata": {},
   "outputs": [],
   "source": [
    "import torch\n",
    "import torch.nn as nn\n",
    "import numpy as np\n",
    "import torch.nn.functional as F\n",
    "\n",
    "# def LinearQuantizeIN(x, k, alpha):                # only quantize >0 values (relu must be preceded)\n",
    "#     L = 2.**k - 1\n",
    "#     xdiv = x.div(alpha)\n",
    "#     xc = xdiv.clamp(min=0., max=1.)\n",
    "#     xq = xc.mul(L).round()\n",
    "#     xmul = xq.div(L).mul(alpha)\n",
    "#     return xq, xmul, alpha\n",
    "\n",
    "def LinearQuantizeOut(x, k, alpha):                # only quantize >0 values (relu must be preceded)\n",
    "    L = 2.**k - 1\n",
    "    xdiv = x.div(alpha)\n",
    "    xc = xdiv.clamp(min=0., max=1.)\n",
    "    xq = xc.mul(L).round()\n",
    "    xmul = xq.div(L).mul(alpha)\n",
    "    return xq, xmul, alpha / L\n",
    "\n",
    "def LinearQuantizeW(x, k, max_val, min_val):        # asymetric quant\n",
    "    delta = max_val - min_val\n",
    "    L= 2 ** k - 1\n",
    "    stepSize = delta\n",
    "    index = torch.clamp(torch.round((x-min_val)/stepSize * L), 0, L)\n",
    "    return index, index*stepSize/L + min_val, delta / L\n"
   ]
  },
  {
   "cell_type": "code",
   "execution_count": 2,
   "metadata": {},
   "outputs": [
    {
     "name": "stdout",
     "output_type": "stream",
     "text": [
      "base:  16 tensor([ 0.0000,  1.0660,  2.1320,  3.1980,  4.2640,  5.3300,  6.3960,  7.4620,\n",
      "         8.5280,  9.5940, 10.6600, 11.7260, 12.7920, 13.8580, 14.9240, 15.9900])\n",
      "base + max_min_norm:  16 tensor([-16.0000, -13.8673, -11.7347,  -9.6020,  -7.4693,  -5.3367,  -3.2040,\n",
      "         -1.0713,   1.0613,   3.1940,   5.3267,   7.4593,   9.5920,  11.7247,\n",
      "         13.8573,  15.9900])\n"
     ]
    },
    {
     "data": {
      "image/png": "[encoded data removed]",
      "text/plain": [
       "<Figure size 640x480 with 1 Axes>"
      ]
     },
     "metadata": {},
     "output_type": "display_data"
    }
   ],
   "source": [
    "import matplotlib.pyplot as plt\n",
    "\n",
    "bit=4\n",
    "x = torch.arange(-16, 16, step=0.01)\n",
    "a1, a2, a3 = LinearQuantizeOut(x, bit, x.max())\n",
    "b1, b2, b3 = LinearQuantizeW(x, bit, x.max(), x.min())\n",
    "\n",
    "uniqs = torch.unique(a2)\n",
    "print(\"base: \", len(uniqs), uniqs)\n",
    "uniqs = torch.unique(b2)\n",
    "print(\"base + max_min_norm: \", len(uniqs), uniqs)\n",
    "\n",
    "plt.plot(x, a2.flatten(), label=\"base\")\n",
    "plt.plot(x, b2.flatten(), label=\"base + max_min_norm\")\n",
    "plt.plot(x, x.flatten())\n",
    "plt.legend()\n",
    "plt.show()"
   ]
  },
  {
   "cell_type": "code",
   "execution_count": 3,
   "metadata": {},
   "outputs": [],
   "source": [
    "import torch.nn.functional as F\n",
    "\n",
    "def linear(input, weight, bitActivation, bitWeight, subArray, ADCprecision, infer=1):\n",
    "    outputOrignal = F.linear(input, weight, None)\n",
    "    output = torch.zeros_like(outputOrignal)\n",
    "    cellBit = 1\n",
    "    cellRange = 2.**cellBit\n",
    "    if infer == 0:\n",
    "        inputQ, _, inputS = LinearQuantizeW(input, bitActivation, input.max(), input.min())\n",
    "        outputIN = torch.zeros_like(outputOrignal)\n",
    "        outputIND = torch.zeros_like(outputOrignal)\n",
    "        for z in range(bitActivation):\n",
    "            inputB = torch.fmod(inputQ, 2)              # 12,10,14 = [0,0,0] / [0,1,1] / [1,0,1] / [1,1,1]\n",
    "            inputQ = torch.round((inputQ-inputB)/2)     # 12,10,14 = [6,5,7] / [3,2,3] / [1,1,1] / [0,0,0]\n",
    "            # after get the spacial kernel, need to transfer floating weight [-1, 1] to binarized ones\n",
    "            weightQ, _, weightS = LinearQuantizeW(weight, bitWeight, weight.max(), weight.min())      # [-1,1] -> [0,2] -> [0,1] by mod 2 -> (2^k-1) * weight [0,1] -> -1~1 mapped to 0~2^k-1\n",
    "            outputP = torch.zeros_like(outputOrignal)\n",
    "            for k in range (int(bitWeight/cellBit)):\n",
    "                weightB = torch.fmod(weightQ, cellRange)\n",
    "                weightQ = torch.round((weightQ-weightB)/cellRange)\n",
    "                # noise variation\n",
    "                # variation = np.random.normal(0, vari, list(weightQ.size())).astype(np.float32)\n",
    "                # weightQ = torch.round((weightQ-remainder)/cellRange)\n",
    "                outputPartial = F.linear(inputB, weightB, None)\n",
    "                # Add ADC quanization effects here !!!\n",
    "                _, outputADC, _ = LinearQuantizeOut(outputPartial, ADCprecision, weight.shape[1])\n",
    "                # shift per weight bit sequence\n",
    "                outputP = outputP + outputADC * (cellRange ** k)\n",
    "            # only 1-bit (all stored 1-logic)\n",
    "            outputDummy = inputB.sum() # same to F.linear(inputB, torch.ones_like(weightB), None)\n",
    "            _, outputDummyADC, _ = LinearQuantizeOut(outputDummy, ADCprecision, weight.shape[1])\n",
    "            # shift per input bit sequence\n",
    "            outputIN = outputIN + outputP * (2 ** z)\n",
    "            outputIND = outputIND + outputDummyADC * (2 ** z)                          # this is basically same to sigma(input)\n",
    "        # since inputQ [0, 15] when k=4, rescale output by divide 16\n",
    "        output = output + inputS * (outputIN * weightS + outputIND * weight.min())    # suppose I=[0~15], W=[-8~7] -> I*W = I[0~15]*W[0~15] + I[0~15]*W_constant[-8] (which is weight.min())\n",
    "    else:\n",
    "        outputF = torch.zeros_like(outputOrignal)\n",
    "        numSubArray = int(weight.shape[1] / subArray)\n",
    "        for s in range(numSubArray):\n",
    "            # different from neurosim / just initialize input again\n",
    "            inputQ, _, inputS = LinearQuantizeW(input, bitActivation, input.max(), input.min())\n",
    "            mask = torch.zeros_like(weight)\n",
    "            mask[:,(s*subArray):(s+1)*subArray] = 1\n",
    "            outputIN = torch.zeros_like(outputOrignal)\n",
    "            outputIND = torch.zeros_like(outputOrignal)\n",
    "            for z in range(bitActivation):\n",
    "                inputB = torch.fmod(inputQ, 2)              # 12,10,14 = [0,0,0] / [0,1,1] / [1,0,1] / [1,1,1]\n",
    "                inputQ = torch.round((inputQ-inputB)/2)     # 12,10,14 = [6,5,7] / [3,2,3] / [1,1,1] / [0,0,0]\n",
    "                # after get the spacial kernel, need to transfer floating weight [-1, 1] to binarized ones\n",
    "                weightQ, _, weightS = LinearQuantizeW(weight*mask, bitWeight, weight.max(), weight.min())      # [-1,1] -> [0,2] -> [0,1] by mod 2 -> (2^k-1) * weight [0,1] -> -1~1 mapped to 0~2^k-1\n",
    "                outputP = torch.zeros_like(outputOrignal)\n",
    "                for k in range (int(bitWeight/cellBit)):\n",
    "                    weightB = torch.fmod(weightQ, cellRange)*mask\n",
    "                    weightQ = torch.round((weightQ-weightB)/cellRange)*mask\n",
    "                    # noise variation\n",
    "                    # variation = np.random.normal(0, vari, list(weightQ.size())).astype(np.float32)\n",
    "                    # weightQ = torch.round((weightQ-remainder)/cellRange)\n",
    "                    outputPartial = F.linear(inputB, weightB, None)\n",
    "                    # Add ADC quanization effects here !!!\n",
    "                    _, outputADC, _ = LinearQuantizeOut(outputPartial, ADCprecision, subArray)\n",
    "                    # shift per weight bit sequence\n",
    "                    outputP = outputP + outputADC * (cellRange ** k)\n",
    "                # only 1-bit (all stored 1-logic)\n",
    "                outputDummy = F.linear(inputB, torch.ones_like(weightB)*mask, None)\n",
    "                _, outputDummyADC, _ = LinearQuantizeOut(outputDummy, ADCprecision, subArray)\n",
    "                # shift per input bit sequence\n",
    "                outputIN = outputIN + outputP * (2 ** z)\n",
    "                outputIND = outputIND + outputDummyADC * (2 ** z)                           # this is basically same to sigma(input)\n",
    "            # since inputQ [0, 15] when k=4, rescale output by divide 16\n",
    "            outputF = outputF + inputS * (outputIN * weightS + outputIND * weight.min())    # suppose I=[0~15], W=[-8~7] -> I*W = I[0~15]*W[0~15] + I[0~15]*W_constant[-8] (which is weight.min())\n",
    "        output = output + outputF\n",
    "    print(outputIND * weight.min())\n",
    "    print(F.linear(input, weight, None))\n",
    "    print(output)\n",
    "    return output"
   ]
  },
  {
   "cell_type": "code",
   "execution_count": 4,
   "metadata": {},
   "outputs": [
    {
     "name": "stdout",
     "output_type": "stream",
     "text": [
      "torch.Size([1, 16]) torch.Size([1, 16])\n",
      "tensor([[0.]])\n",
      "tensor([[1240]])\n",
      "tensor([[1240.]])\n"
     ]
    }
   ],
   "source": [
    "x = torch.arange(0, 16, step=1).reshape(1, 16)\n",
    "w = torch.arange(0, 16, step=1).reshape(1, 16)\n",
    "print(x.size(), w.size())\n",
    "\n",
    "out = linear(x, w, 4, 4, 16, 32)"
   ]
  },
  {
   "cell_type": "code",
   "execution_count": 5,
   "metadata": {},
   "outputs": [
    {
     "name": "stdout",
     "output_type": "stream",
     "text": [
      "torch.Size([1, 16]) torch.Size([1, 16])\n",
      "tensor([[-960.]])\n",
      "tensor([[280]])\n",
      "tensor([[280.]])\n"
     ]
    }
   ],
   "source": [
    "x = torch.arange(0, 16, step=1).reshape(1, 16)\n",
    "w = torch.arange(-8, 8, step=1).reshape(1, 16)\n",
    "print(x.size(), w.size())\n",
    "\n",
    "out = linear(x, w, 4, 4, 16, 32)"
   ]
  },
  {
   "cell_type": "code",
   "execution_count": 6,
   "metadata": {},
   "outputs": [
    {
     "name": "stdout",
     "output_type": "stream",
     "text": [
      "torch.Size([1, 16]) torch.Size([1, 16])\n",
      "tensor([[-157.3770]])\n",
      "tensor([[10.2004]])\n",
      "tensor([[10.2004]])\n"
     ]
    }
   ],
   "source": [
    "x = torch.arange(0, 16, step=1).reshape(1, 16) / 4.5\n",
    "w = torch.arange(-8, 8, step=1).reshape(1, 16) / 6.1\n",
    "print(x.size(), w.size())\n",
    "\n",
    "out = linear(x, w, 4, 4, 16, 32)"
   ]
  },
  {
   "cell_type": "code",
   "execution_count": 7,
   "metadata": {},
   "outputs": [
    {
     "name": "stdout",
     "output_type": "stream",
     "text": [
      "torch.Size([1, 16]) torch.Size([1, 16])\n",
      "tensor([[0.]])\n",
      "tensor([[1240]])\n",
      "tensor([[1240.]])\n"
     ]
    }
   ],
   "source": [
    "x = torch.arange(0, 16, step=1).reshape(1, 16)\n",
    "w = torch.arange(0, 16, step=1).reshape(1, 16)\n",
    "print(x.size(), w.size())\n",
    "\n",
    "out = linear(x, w, 4, 4, 8, 32)"
   ]
  },
  {
   "cell_type": "code",
   "execution_count": 8,
   "metadata": {},
   "outputs": [
    {
     "name": "stdout",
     "output_type": "stream",
     "text": [
      "torch.Size([1, 16]) torch.Size([1, 16])\n"
     ]
    },
    {
     "ename": "UnboundLocalError",
     "evalue": "local variable 'outputIND' referenced before assignment",
     "output_type": "error",
     "traceback": [
      "\u001b[0;31m---------------------------------------------------------------------------\u001b[0m",
      "\u001b[0;31mUnboundLocalError\u001b[0m                         Traceback (most recent call last)",
      "\u001b[1;32m/app/jupyter/!qlinear_check.ipynb Cell 8\u001b[0m line \u001b[0;36m5\n\u001b[1;32m      <a href='vscode-notebook-cell://attached-container%2B7b22636f6e7461696e65724e616d65223a222f636e6e5f7265736e6574227d/app/jupyter/%21qlinear_check.ipynb#X10sdnNjb2RlLXJlbW90ZQ%3D%3D?line=1'>2</a>\u001b[0m w \u001b[39m=\u001b[39m torch\u001b[39m.\u001b[39marange(\u001b[39m0\u001b[39m, \u001b[39m16\u001b[39m, step\u001b[39m=\u001b[39m\u001b[39m1\u001b[39m)\u001b[39m.\u001b[39mreshape(\u001b[39m1\u001b[39m, \u001b[39m16\u001b[39m)\n\u001b[1;32m      <a href='vscode-notebook-cell://attached-container%2B7b22636f6e7461696e65724e616d65223a222f636e6e5f7265736e6574227d/app/jupyter/%21qlinear_check.ipynb#X10sdnNjb2RlLXJlbW90ZQ%3D%3D?line=2'>3</a>\u001b[0m \u001b[39mprint\u001b[39m(x\u001b[39m.\u001b[39msize(), w\u001b[39m.\u001b[39msize())\n\u001b[0;32m----> <a href='vscode-notebook-cell://attached-container%2B7b22636f6e7461696e65724e616d65223a222f636e6e5f7265736e6574227d/app/jupyter/%21qlinear_check.ipynb#X10sdnNjb2RlLXJlbW90ZQ%3D%3D?line=4'>5</a>\u001b[0m out \u001b[39m=\u001b[39m linear(x, w, \u001b[39m4\u001b[39;49m, \u001b[39m4\u001b[39;49m, \u001b[39m64\u001b[39;49m, \u001b[39m32\u001b[39;49m)\n",
      "\u001b[1;32m/app/jupyter/!qlinear_check.ipynb Cell 8\u001b[0m line \u001b[0;36m7\n\u001b[1;32m     <a href='vscode-notebook-cell://attached-container%2B7b22636f6e7461696e65724e616d65223a222f636e6e5f7265736e6574227d/app/jupyter/%21qlinear_check.ipynb#X10sdnNjb2RlLXJlbW90ZQ%3D%3D?line=71'>72</a>\u001b[0m         outputF \u001b[39m=\u001b[39m outputF \u001b[39m+\u001b[39m inputS \u001b[39m*\u001b[39m (outputIN \u001b[39m*\u001b[39m weightS \u001b[39m+\u001b[39m outputIND \u001b[39m*\u001b[39m weight\u001b[39m.\u001b[39mmin())    \u001b[39m# suppose I=[0~15], W=[-8~7] -> I*W = I[0~15]*W[0~15] + I[0~15]*W_constant[-8] (which is weight.min())\u001b[39;00m\n\u001b[1;32m     <a href='vscode-notebook-cell://attached-container%2B7b22636f6e7461696e65724e616d65223a222f636e6e5f7265736e6574227d/app/jupyter/%21qlinear_check.ipynb#X10sdnNjb2RlLXJlbW90ZQ%3D%3D?line=72'>73</a>\u001b[0m     output \u001b[39m=\u001b[39m output \u001b[39m+\u001b[39m outputF\n\u001b[0;32m---> <a href='vscode-notebook-cell://attached-container%2B7b22636f6e7461696e65724e616d65223a222f636e6e5f7265736e6574227d/app/jupyter/%21qlinear_check.ipynb#X10sdnNjb2RlLXJlbW90ZQ%3D%3D?line=73'>74</a>\u001b[0m \u001b[39mprint\u001b[39m(outputIND \u001b[39m*\u001b[39m weight\u001b[39m.\u001b[39mmin())\n\u001b[1;32m     <a href='vscode-notebook-cell://attached-container%2B7b22636f6e7461696e65724e616d65223a222f636e6e5f7265736e6574227d/app/jupyter/%21qlinear_check.ipynb#X10sdnNjb2RlLXJlbW90ZQ%3D%3D?line=74'>75</a>\u001b[0m \u001b[39mprint\u001b[39m(F\u001b[39m.\u001b[39mlinear(\u001b[39minput\u001b[39m, weight, \u001b[39mNone\u001b[39;00m))\n\u001b[1;32m     <a href='vscode-notebook-cell://attached-container%2B7b22636f6e7461696e65724e616d65223a222f636e6e5f7265736e6574227d/app/jupyter/%21qlinear_check.ipynb#X10sdnNjb2RlLXJlbW90ZQ%3D%3D?line=75'>76</a>\u001b[0m \u001b[39mprint\u001b[39m(output)\n",
      "\u001b[0;31mUnboundLocalError\u001b[0m: local variable 'outputIND' referenced before assignment"
     ]
    }
   ],
   "source": [
    "x = torch.arange(0, 16, step=1).reshape(1, 16)\n",
    "w = torch.arange(0, 16, step=1).reshape(1, 16)\n",
    "print(x.size(), w.size())\n",
    "\n",
    "out = linear(x, w, 4, 4, 64, 32)"
   ]
  },
  {
   "cell_type": "code",
   "execution_count": 10,
   "metadata": {},
   "outputs": [
    {
     "name": "stdout",
     "output_type": "stream",
     "text": [
      "tensor([ 0,  1,  2,  3,  4,  5,  6,  7,  8,  9, 10, 11, 12, 13, 14, 15])\n",
      "(tensor([0., 0., 0., 0., 0., 0., 0., 0., 0., 0., 0., 0., 0., 0., 0., 0.]), tensor([0., 0., 0., 0., 0., 0., 0., 0., 0., 0., 0., 0., 0., 0., 0., 0.]), 34.13333333333333)\n"
     ]
    }
   ],
   "source": [
    "\n",
    "def LinearQuantizeOut(x, k, alpha):                # only quantize >0 values (relu must be preceded)\n",
    "    L = 2.**k - 1\n",
    "    xdiv = x.div(alpha)\n",
    "    xc = xdiv.clamp(min=0., max=1.)\n",
    "    xq = xc.mul(L).round()\n",
    "    xmul = xq.div(L).mul(alpha)\n",
    "    return xq, xmul, alpha / L\n",
    "\n",
    "x = torch.arange(0, 16, step=1)\n",
    "o = LinearQuantizeOut(x, k=4, alpha=512)\n",
    "print(x)\n",
    "print(o)\n"
   ]
  },
  {
   "cell_type": "code",
   "execution_count": null,
   "metadata": {},
   "outputs": [],
   "source": []
  }
 ],
 "metadata": {
  "kernelspec": {
   "display_name": "Python 3",
   "language": "python",
   "name": "python3"
  },
  "language_info": {
   "codemirror_mode": {
    "name": "ipython",
    "version": 3
   },
   "file_extension": ".py",
   "mimetype": "text/x-python",
   "name": "python",
   "nbconvert_exporter": "python",
   "pygments_lexer": "ipython3",
   "version": "3.10.12"
  },
  "orig_nbformat": 4
 },
 "nbformat": 4,
 "nbformat_minor": 2
}
